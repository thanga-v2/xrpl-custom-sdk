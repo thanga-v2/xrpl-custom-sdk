{
 "cells": [
  {
   "cell_type": "code",
   "execution_count": 4,
   "metadata": {},
   "outputs": [],
   "source": [
    "\n",
    "from xrpl.clients import JsonRpcClient"
   ]
  },
  {
   "cell_type": "code",
   "execution_count": 5,
   "metadata": {},
   "outputs": [],
   "source": [
    "client = JsonRpcClient(\"https://s.altnet.rippletest.net:51234\")\n"
   ]
  },
  {
   "cell_type": "code",
   "execution_count": 6,
   "metadata": {},
   "outputs": [
    {
     "name": "stdout",
     "output_type": "stream",
     "text": [
      "<xrpl.clients.json_rpc_client.JsonRpcClient object at 0x114b67f80>\n"
     ]
    }
   ],
   "source": [
    "print(client)"
   ]
  },
  {
   "cell_type": "code",
   "execution_count": 7,
   "metadata": {},
   "outputs": [
    {
     "name": "stdout",
     "output_type": "stream",
     "text": [
      "['__abstractmethods__', '__class__', '__delattr__', '__dict__', '__dir__', '__doc__', '__eq__', '__format__', '__ge__', '__getattribute__', '__getstate__', '__gt__', '__hash__', '__init__', '__init_subclass__', '__le__', '__lt__', '__module__', '__ne__', '__new__', '__reduce__', '__reduce_ex__', '__repr__', '__setattr__', '__sizeof__', '__slots__', '__str__', '__subclasshook__', '__weakref__', '_abc_impl', '_request_impl', 'build_version', 'network_id', 'request', 'url']\n",
      "\n",
      "Client URL: https://s.altnet.rippletest.net:51234\n",
      "\n",
      "Raw internal dict:\n",
      "{'url': 'https://s.altnet.rippletest.net:51234', 'network_id': None, 'build_version': None}\n"
     ]
    }
   ],
   "source": [
    "\n",
    "print(dir(client))\n",
    "\n",
    "print(\"\\nClient URL:\", client.url)\n",
    "\n",
    "print(\"\\nRaw internal dict:\")\n",
    "print(client.__dict__)"
   ]
  }
 ],
 "metadata": {
  "kernelspec": {
   "display_name": "3.11.6",
   "language": "python",
   "name": "python3"
  },
  "language_info": {
   "codemirror_mode": {
    "name": "ipython",
    "version": 3
   },
   "file_extension": ".py",
   "mimetype": "text/x-python",
   "name": "python",
   "nbconvert_exporter": "python",
   "pygments_lexer": "ipython3",
   "version": "3.12.2"
  }
 },
 "nbformat": 4,
 "nbformat_minor": 2
}
